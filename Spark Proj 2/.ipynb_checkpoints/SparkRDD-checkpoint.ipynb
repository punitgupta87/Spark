{
 "cells": [
  {
   "cell_type": "code",
   "execution_count": 1,
   "metadata": {},
   "outputs": [],
   "source": [
    "import pandas as pd\n",
    "from operator import add"
   ]
  },
  {
   "cell_type": "code",
   "execution_count": 2,
   "metadata": {},
   "outputs": [],
   "source": [
    "sc1=SparkSession.builder.appName(\"Test\").getOrCreate() \n",
    "\n",
    "# Create a spark session , note you can create a new spark session it will point to the same spark context , \n",
    "# more then one SparkContex con not recide in a JVM."
   ]
  },
  {
   "cell_type": "code",
   "execution_count": 3,
   "metadata": {},
   "outputs": [],
   "source": [
    "a=sc1.sparkContext.textFile(\"sample_data.csv\",3)\n",
    "\n",
    "# we can also use spark.read.option , and provided various options to read different types of files \n",
    "\n",
    "# there are 2 ways to read file we can read it as directly and process it through SparkContext. This functionality \n",
    "# is useful when file is not given in a known format , these types of read creates a RDD which is the basic datastructure\n",
    "# of spark. Here we have partitioned it into 3 parts.\n",
    "# RDD's are immutable , we can not modify an RDD once it is created, \n",
    "# however we can create another RDD from it by applying transformation\n",
    "# OR\n",
    "# if file is not raw it can be read as a csv(or other format) into a dataframe and directly \n",
    "# and SQL operations can be performed on it.\n",
    "# ALSO\n",
    "# we can convert a RDD to Data frame using toDF command.\n",
    "\n",
    "# Let's consider it as Raw for now and see how it can be processed"
   ]
  },
  {
   "cell_type": "code",
   "execution_count": 4,
   "metadata": {},
   "outputs": [
    {
     "data": {
      "text/plain": [
       "3"
      ]
     },
     "execution_count": 4,
     "metadata": {},
     "output_type": "execute_result"
    }
   ],
   "source": [
    "type(a)  # will give : RDD\n",
    "a.getNumPartitions()\n",
    "# and RDD with 3 partitions are created."
   ]
  },
  {
   "cell_type": "code",
   "execution_count": 5,
   "metadata": {},
   "outputs": [],
   "source": [
    "a1=a.map(lambda x : x.split(\",\"))\n",
    "\n",
    "# Here we have splitted each row in columns using \",\" as delimiter"
   ]
  },
  {
   "cell_type": "code",
   "execution_count": 6,
   "metadata": {},
   "outputs": [],
   "source": [
    "a11=a1.map(lambda x : (x[0],0) if x[1]=='' else (x[0],x[1]))\n",
    "\n",
    "# as we have missing value , we have replaced it with 0"
   ]
  },
  {
   "cell_type": "code",
   "execution_count": 7,
   "metadata": {},
   "outputs": [],
   "source": [
    "a12=a11.map(lambda  x : (x[0],int(x[1]))) \n",
    "\n",
    "# as we want to sum these values , we have to convert it to integer"
   ]
  },
  {
   "cell_type": "code",
   "execution_count": 8,
   "metadata": {},
   "outputs": [
    {
     "data": {
      "text/plain": [
       "[('Punit', 100),\n",
       " ('Punit', 200),\n",
       " ('Vishal', 300),\n",
       " ('Vishal', 500),\n",
       " ('Nitin', 0),\n",
       " ('Nitin', 700)]"
      ]
     },
     "execution_count": 8,
     "metadata": {},
     "output_type": "execute_result"
    }
   ],
   "source": [
    "a12.collect()\n",
    "#To print all elements on the driver, one can use the collect() method to first bring the RDD to the driver node thus: \n",
    "# rdd.collect()\n",
    "# Can cause the driver to run out of memory, though, because collect() fetches the entire RDD to a single machine; if you only \n",
    "# need to print a few elements of the RDD, a safer approach is to use the take(): rdd.take(10) example a12.take(2)\n",
    "# lets check the data."
   ]
  },
  {
   "cell_type": "code",
   "execution_count": 9,
   "metadata": {},
   "outputs": [],
   "source": [
    "a13=spark.sparkContext.parallelize(a12.collect(),3)\n",
    "\n",
    "# Map function always created pipeline RDD. we have to convert it to RDD , and parallelize is the function we are using here \n",
    "# to convert pipeline RDD to RDD"
   ]
  },
  {
   "cell_type": "code",
   "execution_count": 10,
   "metadata": {},
   "outputs": [
    {
     "data": {
      "text/plain": [
       "[('Punit', 100),\n",
       " ('Punit', 200),\n",
       " ('Vishal', 300),\n",
       " ('Vishal', 500),\n",
       " ('Nitin', 0),\n",
       " ('Nitin', 700)]"
      ]
     },
     "execution_count": 10,
     "metadata": {},
     "output_type": "execute_result"
    }
   ],
   "source": [
    "a13.collect()\n",
    "\n",
    "# lets check the data."
   ]
  },
  {
   "cell_type": "code",
   "execution_count": 11,
   "metadata": {},
   "outputs": [
    {
     "data": {
      "text/plain": [
       "pyspark.rdd.RDD"
      ]
     },
     "execution_count": 11,
     "metadata": {},
     "output_type": "execute_result"
    }
   ],
   "source": [
    "type(a13)  \n",
    "\n",
    "# check if pipeline RDD is converted to RDD"
   ]
  },
  {
   "cell_type": "code",
   "execution_count": 12,
   "metadata": {},
   "outputs": [
    {
     "data": {
      "text/plain": [
       "[[('Punit', 100), ('Punit', 200)],\n",
       " [('Vishal', 300), ('Vishal', 500)],\n",
       " [('Nitin', 0), ('Nitin', 700)]]"
      ]
     },
     "execution_count": 12,
     "metadata": {},
     "output_type": "execute_result"
    }
   ],
   "source": [
    "a13.glom().collect()\n",
    "\n",
    "#check data in each partition"
   ]
  },
  {
   "cell_type": "code",
   "execution_count": 13,
   "metadata": {},
   "outputs": [],
   "source": [
    "a14=a13.reduceByKey(add)\n",
    "\n",
    "# reduce by key , function to add the databased on 2nd column , 1st column is considered as key"
   ]
  },
  {
   "cell_type": "code",
   "execution_count": 14,
   "metadata": {},
   "outputs": [
    {
     "data": {
      "text/plain": [
       "[('Punit', 300), ('Vishal', 800), ('Nitin', 700)]"
      ]
     },
     "execution_count": 14,
     "metadata": {},
     "output_type": "execute_result"
    }
   ],
   "source": [
    "a14.collect()"
   ]
  },
  {
   "cell_type": "code",
   "execution_count": 15,
   "metadata": {},
   "outputs": [],
   "source": [
    "a15=a14.toDF()  \n",
    "\n",
    "# this is the function we can use to convert RDD to DF"
   ]
  },
  {
   "cell_type": "code",
   "execution_count": 16,
   "metadata": {},
   "outputs": [
    {
     "data": {
      "text/plain": [
       "pyspark.sql.dataframe.DataFrame"
      ]
     },
     "execution_count": 16,
     "metadata": {},
     "output_type": "execute_result"
    }
   ],
   "source": [
    "type(a15) \n",
    "\n",
    "# Check the type of a15 now\n",
    "# Spark DataFrame is not same as Python DataFrame"
   ]
  },
  {
   "cell_type": "code",
   "execution_count": 17,
   "metadata": {},
   "outputs": [
    {
     "name": "stdout",
     "output_type": "stream",
     "text": [
      "+------+---+\n",
      "|    _1| _2|\n",
      "+------+---+\n",
      "| Punit|300|\n",
      "|Vishal|800|\n",
      "| Nitin|700|\n",
      "+------+---+\n",
      "\n"
     ]
    }
   ],
   "source": [
    "a15.show()"
   ]
  },
  {
   "cell_type": "code",
   "execution_count": 18,
   "metadata": {},
   "outputs": [
    {
     "name": "stdout",
     "output_type": "stream",
     "text": [
      "+------+---+\n",
      "|  Name| _2|\n",
      "+------+---+\n",
      "| Punit|300|\n",
      "|Vishal|800|\n",
      "| Nitin|700|\n",
      "+------+---+\n",
      "\n"
     ]
    }
   ],
   "source": [
    "a15.withColumnRenamed(\"_1\",\"Name\").show()"
   ]
  },
  {
   "cell_type": "markdown",
   "metadata": {},
   "source": [
    "--------------------------------------------------------------------------------------------------------------------\n",
    "--------------------------------------------------------------------------------------------------------------------\n",
    "Lets consider file as csv"
   ]
  },
  {
   "cell_type": "code",
   "execution_count": 19,
   "metadata": {},
   "outputs": [],
   "source": [
    "b=spark.read.csv(\"sample_data.csv\")"
   ]
  },
  {
   "cell_type": "code",
   "execution_count": 20,
   "metadata": {},
   "outputs": [
    {
     "name": "stdout",
     "output_type": "stream",
     "text": [
      "+------+----+\n",
      "|   _c0| _c1|\n",
      "+------+----+\n",
      "| Punit| 100|\n",
      "| Punit| 200|\n",
      "|Vishal| 300|\n",
      "|Vishal| 500|\n",
      "| Nitin|null|\n",
      "| Nitin| 700|\n",
      "+------+----+\n",
      "\n"
     ]
    }
   ],
   "source": [
    "b.show()"
   ]
  },
  {
   "cell_type": "code",
   "execution_count": 21,
   "metadata": {},
   "outputs": [
    {
     "data": {
      "text/plain": [
       "pyspark.sql.dataframe.DataFrame"
      ]
     },
     "execution_count": 21,
     "metadata": {},
     "output_type": "execute_result"
    }
   ],
   "source": [
    "type(b) \n",
    "# Here we have created a sparkdataframe , internally it is srored as RDD itself. but sicn spark 2.0 such facility is builtin."
   ]
  },
  {
   "cell_type": "code",
   "execution_count": 22,
   "metadata": {},
   "outputs": [],
   "source": [
    "b1=b.withColumnRenamed(\"_c0\", \"name\").withColumnRenamed(\"_c1\",\"sal\")"
   ]
  },
  {
   "cell_type": "code",
   "execution_count": 23,
   "metadata": {},
   "outputs": [],
   "source": [
    "b11=b1.fillna('0')"
   ]
  },
  {
   "cell_type": "code",
   "execution_count": 24,
   "metadata": {},
   "outputs": [
    {
     "name": "stdout",
     "output_type": "stream",
     "text": [
      "+------+---+\n",
      "|  name|sal|\n",
      "+------+---+\n",
      "| Punit|100|\n",
      "| Punit|200|\n",
      "|Vishal|300|\n",
      "|Vishal|500|\n",
      "| Nitin|  0|\n",
      "| Nitin|700|\n",
      "+------+---+\n",
      "\n"
     ]
    }
   ],
   "source": [
    "b11.show() # To Run a SQL on it , we have to convert it to view "
   ]
  },
  {
   "cell_type": "code",
   "execution_count": 19,
   "metadata": {},
   "outputs": [],
   "source": [
    "# ---------------------------------------------------------------------------------- "
   ]
  },
  {
   "cell_type": "code",
   "execution_count": 1,
   "metadata": {},
   "outputs": [],
   "source": [
    "# Spark Streaming Fundamentals \n",
    "# with spark 2.0 onwards Spark has introduced Structured Streaming , which is an upgrage to DStream \n",
    "# as it compitable with higher level API's like DataFrames (Python) and Datasets (Scala)"
   ]
  },
  {
   "cell_type": "code",
   "execution_count": 2,
   "metadata": {},
   "outputs": [],
   "source": [
    "sparkStreaming = SparkSession \\\n",
    "    .builder \\\n",
    "    .appName(\"StreamExample1\") \\\n",
    "    .getOrCreate()"
   ]
  },
  {
   "cell_type": "code",
   "execution_count": 3,
   "metadata": {},
   "outputs": [],
   "source": [
    "# option 1 here spark is reading only one file per run\n",
    "\n",
    "stream_df=sparkStreaming.readStream.schema(\"col0 STRING, col1 INTEGER\").option(\"maxFilesPerTrigger\", 1).\\\n",
    "csv(\"sparkStream\")\n",
    "\n",
    "# option 2 here spark is reading all the files in direcrory.\n",
    "#stream_df=sparkStreaming.readStream.schema(\"col0 STRING, col1 INTEGER\").\\\n",
    "#csv(\"C:/Users/pg186028/Documents/DataVisualization/sparkStream\")"
   ]
  },
  {
   "cell_type": "code",
   "execution_count": 4,
   "metadata": {},
   "outputs": [],
   "source": [
    "sql1=stream_df.groupBy(\"col0\").sum(\"col1\")\n",
    "query = sql1.writeStream.queryName(\"stream1\").outputMode(\"complete\").format(\"memory\").start() \n",
    "#.format(\"console\") will print values on Consol "
   ]
  },
  {
   "cell_type": "code",
   "execution_count": null,
   "metadata": {},
   "outputs": [],
   "source": [
    "type(query) # Provides an additional functionality to run SQL directly on it , we have given it a name as \"stream1\""
   ]
  },
  {
   "cell_type": "code",
   "execution_count": 5,
   "metadata": {},
   "outputs": [
    {
     "data": {
      "text/plain": [
       "{'message': 'Processing new data',\n",
       " 'isDataAvailable': True,\n",
       " 'isTriggerActive': True}"
      ]
     },
     "execution_count": 5,
     "metadata": {},
     "output_type": "execute_result"
    }
   ],
   "source": [
    "query.status"
   ]
  },
  {
   "cell_type": "code",
   "execution_count": 6,
   "metadata": {},
   "outputs": [],
   "source": [
    "from time import sleep"
   ]
  },
  {
   "cell_type": "code",
   "execution_count": 7,
   "metadata": {},
   "outputs": [
    {
     "name": "stdout",
     "output_type": "stream",
     "text": [
      "+----+---------+\n",
      "|col0|sum(col1)|\n",
      "+----+---------+\n",
      "+----+---------+\n",
      "\n",
      "+----+---------+\n",
      "|col0|sum(col1)|\n",
      "+----+---------+\n",
      "|   g|       30|\n",
      "|   f|       20|\n",
      "|   e|       10|\n",
      "|   d|      360|\n",
      "|   c|       80|\n",
      "|   b|       60|\n",
      "|   a|       60|\n",
      "+----+---------+\n",
      "\n",
      "+----+---------+\n",
      "|col0|sum(col1)|\n",
      "+----+---------+\n",
      "|   g|       30|\n",
      "|   f|       20|\n",
      "|   e|       10|\n",
      "|   h|      100|\n",
      "|   z|       10|\n",
      "|   d|      360|\n",
      "|   c|       80|\n",
      "|   b|       60|\n",
      "|   a|       80|\n",
      "+----+---------+\n",
      "\n",
      "+----+---------+\n",
      "|col0|sum(col1)|\n",
      "+----+---------+\n",
      "|   g|       30|\n",
      "|   f|       20|\n",
      "|   e|       10|\n",
      "|   h|      100|\n",
      "|   z|       10|\n",
      "|   d|      360|\n",
      "|   c|       80|\n",
      "|   b|       60|\n",
      "|   a|       80|\n",
      "+----+---------+\n",
      "\n",
      "+----+---------+\n",
      "|col0|sum(col1)|\n",
      "+----+---------+\n",
      "|   g|       30|\n",
      "|   f|       20|\n",
      "|   e|       10|\n",
      "|   h|      100|\n",
      "|   z|       10|\n",
      "|   d|      360|\n",
      "|   c|       80|\n",
      "|   b|       60|\n",
      "|   a|       80|\n",
      "+----+---------+\n",
      "\n",
      "+----+---------+\n",
      "|col0|sum(col1)|\n",
      "+----+---------+\n",
      "|   g|       30|\n",
      "|   f|       20|\n",
      "|   e|       10|\n",
      "|   h|      100|\n",
      "|   z|       10|\n",
      "|   d|      360|\n",
      "|   c|       80|\n",
      "|   b|       60|\n",
      "|   a|       80|\n",
      "+----+---------+\n",
      "\n",
      "+----+---------+\n",
      "|col0|sum(col1)|\n",
      "+----+---------+\n",
      "|   g|       30|\n",
      "|   f|       20|\n",
      "|   e|       10|\n",
      "|   h|      100|\n",
      "|   z|       10|\n",
      "|   d|      360|\n",
      "|   c|       80|\n",
      "|   b|       60|\n",
      "|   a|       80|\n",
      "+----+---------+\n",
      "\n",
      "+----+---------+\n",
      "|col0|sum(col1)|\n",
      "+----+---------+\n",
      "|   g|       30|\n",
      "|   f|       20|\n",
      "|   e|       10|\n",
      "|   h|      100|\n",
      "|   z|       10|\n",
      "|   d|      360|\n",
      "|   c|       80|\n",
      "|   b|       60|\n",
      "|   a|       80|\n",
      "+----+---------+\n",
      "\n",
      "+----+---------+\n",
      "|col0|sum(col1)|\n",
      "+----+---------+\n",
      "|   g|       30|\n",
      "|   f|       20|\n",
      "|   e|       10|\n",
      "|   h|      100|\n",
      "|   z|       10|\n",
      "|   d|      360|\n",
      "|   c|       80|\n",
      "|   b|       60|\n",
      "|   a|       80|\n",
      "+----+---------+\n",
      "\n",
      "+----+---------+\n",
      "|col0|sum(col1)|\n",
      "+----+---------+\n",
      "|   g|       30|\n",
      "|   f|       20|\n",
      "|   e|       10|\n",
      "|   h|      100|\n",
      "|   z|       10|\n",
      "|   d|      360|\n",
      "|   c|       80|\n",
      "|   b|       60|\n",
      "|   a|       80|\n",
      "+----+---------+\n",
      "\n",
      "+----+---------+\n",
      "|col0|sum(col1)|\n",
      "+----+---------+\n",
      "|   g|       30|\n",
      "|   f|       20|\n",
      "|   e|       10|\n",
      "|   h|      100|\n",
      "|   z|       10|\n",
      "|   d|      360|\n",
      "|   c|       80|\n",
      "|   b|       60|\n",
      "|   a|       80|\n",
      "+----+---------+\n",
      "\n",
      "+----+---------+\n",
      "|col0|sum(col1)|\n",
      "+----+---------+\n",
      "|   g|       30|\n",
      "|   f|       20|\n",
      "|   e|       10|\n",
      "|   h|      100|\n",
      "|   z|       10|\n",
      "|   d|      360|\n",
      "|   c|       80|\n",
      "|   b|       60|\n",
      "|   a|       80|\n",
      "+----+---------+\n",
      "\n",
      "+----+---------+\n",
      "|col0|sum(col1)|\n",
      "+----+---------+\n",
      "|   g|       30|\n",
      "|   f|       20|\n",
      "|   e|       10|\n",
      "|   h|      100|\n",
      "|   z|       10|\n",
      "|   d|      360|\n",
      "|   c|       80|\n",
      "|   b|       60|\n",
      "|   a|       80|\n",
      "+----+---------+\n",
      "\n",
      "+----+---------+\n",
      "|col0|sum(col1)|\n",
      "+----+---------+\n",
      "|   g|       30|\n",
      "|   f|       20|\n",
      "|   e|       10|\n",
      "|   h|      100|\n",
      "|   z|       10|\n",
      "|   d|      360|\n",
      "|   c|       80|\n",
      "|   b|       60|\n",
      "|   a|       80|\n",
      "+----+---------+\n",
      "\n",
      "+----+---------+\n",
      "|col0|sum(col1)|\n",
      "+----+---------+\n",
      "|   g|       30|\n",
      "|   f|       20|\n",
      "|   e|       10|\n",
      "|   h|      100|\n",
      "|   z|       10|\n",
      "|   d|      360|\n",
      "|   c|       80|\n",
      "|   b|       60|\n",
      "|   a|       80|\n",
      "+----+---------+\n",
      "\n",
      "+----+---------+\n",
      "|col0|sum(col1)|\n",
      "+----+---------+\n",
      "|   g|       30|\n",
      "|   f|       20|\n",
      "|   e|       10|\n",
      "|   h|      100|\n",
      "|   z|       10|\n",
      "|   d|      360|\n",
      "|   c|       80|\n",
      "|   b|       60|\n",
      "|   a|       80|\n",
      "+----+---------+\n",
      "\n",
      "+----+---------+\n",
      "|col0|sum(col1)|\n",
      "+----+---------+\n",
      "|   g|       30|\n",
      "|   f|       20|\n",
      "|   e|       10|\n",
      "|   h|      100|\n",
      "|   z|       10|\n",
      "|   d|      360|\n",
      "|   c|       80|\n",
      "|   b|       60|\n",
      "|   a|       80|\n",
      "+----+---------+\n",
      "\n",
      "+----+---------+\n",
      "|col0|sum(col1)|\n",
      "+----+---------+\n",
      "|   g|       30|\n",
      "|   f|       20|\n",
      "|   e|       10|\n",
      "|   h|      100|\n",
      "|   z|       10|\n",
      "|   d|      360|\n",
      "|   c|       80|\n",
      "|   b|       60|\n",
      "|   a|       80|\n",
      "+----+---------+\n",
      "\n",
      "+----+---------+\n",
      "|col0|sum(col1)|\n",
      "+----+---------+\n",
      "|   g|       30|\n",
      "|   f|       20|\n",
      "|   e|       10|\n",
      "|   h|      100|\n",
      "|   z|       10|\n",
      "|   d|      360|\n",
      "|   c|       80|\n",
      "|   b|       60|\n",
      "|   a|       80|\n",
      "+----+---------+\n",
      "\n",
      "+----+---------+\n",
      "|col0|sum(col1)|\n",
      "+----+---------+\n",
      "|   g|       30|\n",
      "|   f|       20|\n",
      "|   e|       10|\n",
      "|   h|      100|\n",
      "|   z|       10|\n",
      "|   d|      360|\n",
      "|   c|       80|\n",
      "|   b|       60|\n",
      "|   a|       80|\n",
      "+----+---------+\n",
      "\n",
      "+----+---------+\n",
      "|col0|sum(col1)|\n",
      "+----+---------+\n",
      "|   g|       30|\n",
      "|   f|       20|\n",
      "|   e|       10|\n",
      "|   h|      100|\n",
      "|   z|       10|\n",
      "|   d|      360|\n",
      "|   c|       80|\n",
      "|   b|       60|\n",
      "|   a|       80|\n",
      "+----+---------+\n",
      "\n",
      "+----+---------+\n",
      "|col0|sum(col1)|\n",
      "+----+---------+\n",
      "|   g|       30|\n",
      "|   f|       20|\n",
      "|   e|       10|\n",
      "|   h|      100|\n",
      "|   z|       10|\n",
      "|   d|      360|\n",
      "|   c|       80|\n",
      "|   b|       60|\n",
      "|   a|       80|\n",
      "+----+---------+\n",
      "\n",
      "+----+---------+\n",
      "|col0|sum(col1)|\n",
      "+----+---------+\n",
      "|   g|       30|\n",
      "|   f|       20|\n",
      "|   e|       10|\n",
      "|   h|      100|\n",
      "|   z|       10|\n",
      "|   d|      360|\n",
      "|   c|       80|\n",
      "|   b|       60|\n",
      "|   a|       80|\n",
      "+----+---------+\n",
      "\n",
      "+----+---------+\n",
      "|col0|sum(col1)|\n",
      "+----+---------+\n",
      "|   g|       30|\n",
      "|   f|       20|\n",
      "|   e|       10|\n",
      "|   h|      100|\n",
      "|   z|       10|\n",
      "|   d|      360|\n",
      "|   c|       80|\n",
      "|   b|       60|\n",
      "|   a|       80|\n",
      "+----+---------+\n",
      "\n",
      "+----+---------+\n",
      "|col0|sum(col1)|\n",
      "+----+---------+\n",
      "|   g|       30|\n",
      "|   f|       20|\n",
      "|   e|       10|\n",
      "|   h|      100|\n",
      "|   z|       10|\n",
      "|   d|      360|\n",
      "|   c|       80|\n",
      "|   b|       60|\n",
      "|   a|       80|\n",
      "+----+---------+\n",
      "\n",
      "+----+---------+\n",
      "|col0|sum(col1)|\n",
      "+----+---------+\n",
      "|   g|       30|\n",
      "|   f|       20|\n",
      "|   e|       10|\n",
      "|   h|      100|\n",
      "|   z|       10|\n",
      "|   d|      360|\n",
      "|   c|       80|\n",
      "|   b|       60|\n",
      "|   a|       80|\n",
      "+----+---------+\n",
      "\n",
      "+----+---------+\n",
      "|col0|sum(col1)|\n",
      "+----+---------+\n",
      "|   g|       30|\n",
      "|   f|       20|\n",
      "|   e|       10|\n",
      "|   h|      100|\n",
      "|   z|       10|\n",
      "|   d|      360|\n",
      "|   c|       80|\n",
      "|   b|       60|\n",
      "|   a|       80|\n",
      "+----+---------+\n",
      "\n",
      "+----+---------+\n",
      "|col0|sum(col1)|\n",
      "+----+---------+\n",
      "|   g|       30|\n",
      "|   f|       20|\n",
      "|   e|       10|\n",
      "|   h|      100|\n",
      "|   z|       10|\n",
      "|   d|      360|\n",
      "|   c|       80|\n",
      "|   b|       60|\n",
      "|   a|       80|\n",
      "+----+---------+\n",
      "\n",
      "+----+---------+\n",
      "|col0|sum(col1)|\n",
      "+----+---------+\n",
      "|   g|       30|\n",
      "|   f|       20|\n",
      "|   e|       10|\n",
      "|   h|      100|\n",
      "|   z|       10|\n",
      "|   d|      360|\n",
      "|   c|       80|\n",
      "|   b|       60|\n",
      "|   a|       80|\n",
      "+----+---------+\n",
      "\n",
      "+----+---------+\n",
      "|col0|sum(col1)|\n",
      "+----+---------+\n",
      "|   g|       30|\n",
      "|   f|       20|\n",
      "|   e|       10|\n",
      "|   h|      100|\n",
      "|   z|       10|\n",
      "|   d|      360|\n",
      "|   c|       80|\n",
      "|   b|       60|\n",
      "|   a|       80|\n",
      "+----+---------+\n",
      "\n",
      "+----+---------+\n",
      "|col0|sum(col1)|\n",
      "+----+---------+\n",
      "|   g|       30|\n",
      "|   f|       20|\n",
      "|   e|       10|\n",
      "|   h|      100|\n",
      "|   z|       10|\n",
      "|   d|      360|\n",
      "|   c|       80|\n",
      "|   b|       60|\n",
      "|   a|       80|\n",
      "+----+---------+\n",
      "\n",
      "+----+---------+\n",
      "|col0|sum(col1)|\n",
      "+----+---------+\n",
      "|   g|       30|\n",
      "|   f|       20|\n",
      "|   e|       10|\n",
      "|   h|      100|\n",
      "|   z|       10|\n",
      "|   d|      360|\n",
      "|   c|       80|\n",
      "|   b|       60|\n",
      "|   a|       80|\n",
      "+----+---------+\n",
      "\n",
      "+----+---------+\n",
      "|col0|sum(col1)|\n",
      "+----+---------+\n",
      "|   g|       30|\n",
      "|   f|       20|\n",
      "|   e|       10|\n",
      "|   h|      100|\n",
      "|   z|       10|\n",
      "|   d|      360|\n",
      "|   c|       80|\n",
      "|   b|       60|\n",
      "|   a|       80|\n",
      "+----+---------+\n",
      "\n",
      "+----+---------+\n",
      "|col0|sum(col1)|\n",
      "+----+---------+\n",
      "|   g|       30|\n",
      "|   f|       20|\n",
      "|   e|       10|\n",
      "|   h|      100|\n",
      "|   z|       10|\n",
      "|   d|      360|\n",
      "|   c|       80|\n",
      "|   b|       60|\n",
      "|   a|       80|\n",
      "+----+---------+\n",
      "\n",
      "+----+---------+\n",
      "|col0|sum(col1)|\n",
      "+----+---------+\n",
      "|   g|       30|\n",
      "|   f|       20|\n",
      "|   e|       10|\n",
      "|   h|      100|\n",
      "|   z|       10|\n",
      "|   d|      360|\n",
      "|   c|       80|\n",
      "|   b|       60|\n",
      "|   a|       80|\n",
      "+----+---------+\n",
      "\n",
      "+----+---------+\n",
      "|col0|sum(col1)|\n",
      "+----+---------+\n",
      "|   g|       30|\n",
      "|   f|       20|\n",
      "|   e|       10|\n",
      "|   h|      100|\n",
      "|   z|       10|\n",
      "|   d|      360|\n",
      "|   c|       80|\n",
      "|   b|       60|\n",
      "|   a|       80|\n",
      "+----+---------+\n",
      "\n",
      "+----+---------+\n",
      "|col0|sum(col1)|\n",
      "+----+---------+\n",
      "|   g|       30|\n",
      "|   f|       20|\n",
      "|   e|       10|\n",
      "|   h|      100|\n",
      "|   z|       10|\n",
      "|   d|      360|\n",
      "|   c|       80|\n",
      "|   b|       60|\n",
      "|   a|       80|\n",
      "+----+---------+\n",
      "\n",
      "+----+---------+\n",
      "|col0|sum(col1)|\n",
      "+----+---------+\n",
      "|   g|       30|\n",
      "|   f|       20|\n",
      "|   e|       10|\n",
      "|   h|      100|\n",
      "|   z|       10|\n",
      "|   d|      360|\n",
      "|   c|       80|\n",
      "|   b|       60|\n",
      "|   a|       80|\n",
      "+----+---------+\n",
      "\n"
     ]
    },
    {
     "name": "stdout",
     "output_type": "stream",
     "text": [
      "+----+---------+\n",
      "|col0|sum(col1)|\n",
      "+----+---------+\n",
      "|   g|       30|\n",
      "|   f|       20|\n",
      "|   e|       10|\n",
      "|   h|      100|\n",
      "|   z|       10|\n",
      "|   d|      360|\n",
      "|   c|       80|\n",
      "|   b|       60|\n",
      "|   a|       80|\n",
      "+----+---------+\n",
      "\n",
      "+----+---------+\n",
      "|col0|sum(col1)|\n",
      "+----+---------+\n",
      "|   g|       30|\n",
      "|   f|       20|\n",
      "|   e|       10|\n",
      "|   h|      100|\n",
      "|   z|       10|\n",
      "|   d|      360|\n",
      "|   c|       80|\n",
      "|   b|       60|\n",
      "|   a|       80|\n",
      "+----+---------+\n",
      "\n",
      "+----+---------+\n",
      "|col0|sum(col1)|\n",
      "+----+---------+\n",
      "|   g|       30|\n",
      "|   f|       20|\n",
      "|   e|       10|\n",
      "|   h|      100|\n",
      "|   z|       10|\n",
      "|   d|      360|\n",
      "|   c|       80|\n",
      "|   b|       60|\n",
      "|   a|       80|\n",
      "+----+---------+\n",
      "\n",
      "+----+---------+\n",
      "|col0|sum(col1)|\n",
      "+----+---------+\n",
      "|   g|       30|\n",
      "|   f|       20|\n",
      "|   e|       10|\n",
      "|   h|      100|\n",
      "|   z|       10|\n",
      "|   d|      360|\n",
      "|   c|       80|\n",
      "|   b|       60|\n",
      "|   a|       80|\n",
      "+----+---------+\n",
      "\n",
      "+----+---------+\n",
      "|col0|sum(col1)|\n",
      "+----+---------+\n",
      "|   g|       30|\n",
      "|   f|       20|\n",
      "|   e|       10|\n",
      "|   h|      100|\n",
      "|   z|       10|\n",
      "|   d|      360|\n",
      "|   c|       80|\n",
      "|   b|       60|\n",
      "|   a|       80|\n",
      "+----+---------+\n",
      "\n",
      "+----+---------+\n",
      "|col0|sum(col1)|\n",
      "+----+---------+\n",
      "|   g|       30|\n",
      "|   f|       20|\n",
      "|   e|       10|\n",
      "|   h|      100|\n",
      "|   z|       10|\n",
      "|   d|      360|\n",
      "|   c|       80|\n",
      "|   b|       60|\n",
      "|   a|       80|\n",
      "+----+---------+\n",
      "\n",
      "+----+---------+\n",
      "|col0|sum(col1)|\n",
      "+----+---------+\n",
      "|   g|       30|\n",
      "|   f|       20|\n",
      "|   e|       10|\n",
      "|   h|      100|\n",
      "|   z|       10|\n",
      "|   d|      360|\n",
      "|   c|       80|\n",
      "|   b|       60|\n",
      "|   a|       80|\n",
      "+----+---------+\n",
      "\n",
      "+----+---------+\n",
      "|col0|sum(col1)|\n",
      "+----+---------+\n",
      "|   g|       30|\n",
      "|   f|       20|\n",
      "|   e|       10|\n",
      "|   h|      100|\n",
      "|   z|       10|\n",
      "|   d|      360|\n",
      "|   c|       80|\n",
      "|   b|       60|\n",
      "|   a|       80|\n",
      "+----+---------+\n",
      "\n",
      "+----+---------+\n",
      "|col0|sum(col1)|\n",
      "+----+---------+\n",
      "|   g|       30|\n",
      "|   f|       20|\n",
      "|   e|       10|\n",
      "|   h|      100|\n",
      "|   z|       10|\n",
      "|   d|      360|\n",
      "|   c|       80|\n",
      "|   b|       60|\n",
      "|   a|       80|\n",
      "+----+---------+\n",
      "\n",
      "+----+---------+\n",
      "|col0|sum(col1)|\n",
      "+----+---------+\n",
      "|   g|       30|\n",
      "|   f|       20|\n",
      "|   e|       10|\n",
      "|   h|      100|\n",
      "|   z|       10|\n",
      "|   d|      360|\n",
      "|   c|       80|\n",
      "|   b|       60|\n",
      "|   a|       80|\n",
      "+----+---------+\n",
      "\n",
      "+----+---------+\n",
      "|col0|sum(col1)|\n",
      "+----+---------+\n",
      "|   g|       30|\n",
      "|   f|       20|\n",
      "|   e|       10|\n",
      "|   h|      100|\n",
      "|   z|       10|\n",
      "|   d|      360|\n",
      "|   c|       80|\n",
      "|   b|       60|\n",
      "|   a|       80|\n",
      "+----+---------+\n",
      "\n",
      "+----+---------+\n",
      "|col0|sum(col1)|\n",
      "+----+---------+\n",
      "|   g|       30|\n",
      "|   f|       20|\n",
      "|   e|       10|\n",
      "|   h|      100|\n",
      "|   z|       10|\n",
      "|   d|      360|\n",
      "|   c|       80|\n",
      "|   b|       60|\n",
      "|   a|       80|\n",
      "+----+---------+\n",
      "\n"
     ]
    }
   ],
   "source": [
    "for x in range(5):\n",
    "    sparkStreaming.sql(\"selECT * from stream1\").show()\n",
    "    sleep(10)"
   ]
  },
  {
   "cell_type": "code",
   "execution_count": 10,
   "metadata": {},
   "outputs": [],
   "source": [
    "query.stop()"
   ]
  },
  {
   "cell_type": "code",
   "execution_count": null,
   "metadata": {},
   "outputs": [],
   "source": []
  }
 ],
 "metadata": {
  "kernelspec": {
   "display_name": "Python 3",
   "language": "python",
   "name": "python3"
  },
  "language_info": {
   "codemirror_mode": {
    "name": "ipython",
    "version": 3
   },
   "file_extension": ".py",
   "mimetype": "text/x-python",
   "name": "python",
   "nbconvert_exporter": "python",
   "pygments_lexer": "ipython3",
   "version": "3.7.1"
  }
 },
 "nbformat": 4,
 "nbformat_minor": 2
}
